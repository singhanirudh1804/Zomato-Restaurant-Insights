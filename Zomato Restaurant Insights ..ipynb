{
 "cells": [
  {
   "cell_type": "markdown",
   "id": "4852d797-d61e-4498-94d5-24ad1943fafa",
   "metadata": {},
   "source": [
    "## Import necessary Python libraries "
   ]
  },
  {
   "cell_type": "code",
   "execution_count": 1,
   "id": "76f93ede-834f-4b4a-8767-528de5680b11",
   "metadata": {},
   "outputs": [],
   "source": [
    "import numpy as np \n",
    "import pandas as pd\n",
    "import matplotlib.pyplot as plt \n",
    "import seaborn as sns"
   ]
  },
  {
   "cell_type": "markdown",
   "id": "3486b624-640e-40bb-8c40-0c6423f40dea",
   "metadata": {},
   "source": [
    "## Step1: Cleaning the data"
   ]
  },
  {
   "cell_type": "markdown",
   "id": "316790c8-6637-45d2-ba12-e5c69092f201",
   "metadata": {},
   "source": [
    "### Load the dataset"
   ]
  },
  {
   "cell_type": "code",
   "execution_count": 2,
   "id": "5c9b3f3b-a26f-4106-873a-7fe0c0df752b",
   "metadata": {},
   "outputs": [
    {
     "ename": "FileNotFoundError",
     "evalue": "[Errno 2] No such file or directory: 'Zomato data.csv'",
     "output_type": "error",
     "traceback": [
      "\u001b[1;31m---------------------------------------------------------------------------\u001b[0m",
      "\u001b[1;31mFileNotFoundError\u001b[0m                         Traceback (most recent call last)",
      "Cell \u001b[1;32mIn[2], line 1\u001b[0m\n\u001b[1;32m----> 1\u001b[0m df\u001b[38;5;241m=\u001b[39m\u001b[43mpd\u001b[49m\u001b[38;5;241;43m.\u001b[39;49m\u001b[43mread_csv\u001b[49m\u001b[43m(\u001b[49m\u001b[38;5;124;43m\"\u001b[39;49m\u001b[38;5;124;43mZomato data.csv\u001b[39;49m\u001b[38;5;124;43m\"\u001b[39;49m\u001b[43m)\u001b[49m\n\u001b[0;32m      2\u001b[0m df\u001b[38;5;241m.\u001b[39mhead()\n",
      "File \u001b[1;32m~\\AppData\\Local\\Programs\\Python\\Python312\\Lib\\site-packages\\pandas\\io\\parsers\\readers.py:1026\u001b[0m, in \u001b[0;36mread_csv\u001b[1;34m(filepath_or_buffer, sep, delimiter, header, names, index_col, usecols, dtype, engine, converters, true_values, false_values, skipinitialspace, skiprows, skipfooter, nrows, na_values, keep_default_na, na_filter, verbose, skip_blank_lines, parse_dates, infer_datetime_format, keep_date_col, date_parser, date_format, dayfirst, cache_dates, iterator, chunksize, compression, thousands, decimal, lineterminator, quotechar, quoting, doublequote, escapechar, comment, encoding, encoding_errors, dialect, on_bad_lines, delim_whitespace, low_memory, memory_map, float_precision, storage_options, dtype_backend)\u001b[0m\n\u001b[0;32m   1013\u001b[0m kwds_defaults \u001b[38;5;241m=\u001b[39m _refine_defaults_read(\n\u001b[0;32m   1014\u001b[0m     dialect,\n\u001b[0;32m   1015\u001b[0m     delimiter,\n\u001b[1;32m   (...)\u001b[0m\n\u001b[0;32m   1022\u001b[0m     dtype_backend\u001b[38;5;241m=\u001b[39mdtype_backend,\n\u001b[0;32m   1023\u001b[0m )\n\u001b[0;32m   1024\u001b[0m kwds\u001b[38;5;241m.\u001b[39mupdate(kwds_defaults)\n\u001b[1;32m-> 1026\u001b[0m \u001b[38;5;28;01mreturn\u001b[39;00m \u001b[43m_read\u001b[49m\u001b[43m(\u001b[49m\u001b[43mfilepath_or_buffer\u001b[49m\u001b[43m,\u001b[49m\u001b[43m \u001b[49m\u001b[43mkwds\u001b[49m\u001b[43m)\u001b[49m\n",
      "File \u001b[1;32m~\\AppData\\Local\\Programs\\Python\\Python312\\Lib\\site-packages\\pandas\\io\\parsers\\readers.py:620\u001b[0m, in \u001b[0;36m_read\u001b[1;34m(filepath_or_buffer, kwds)\u001b[0m\n\u001b[0;32m    617\u001b[0m _validate_names(kwds\u001b[38;5;241m.\u001b[39mget(\u001b[38;5;124m\"\u001b[39m\u001b[38;5;124mnames\u001b[39m\u001b[38;5;124m\"\u001b[39m, \u001b[38;5;28;01mNone\u001b[39;00m))\n\u001b[0;32m    619\u001b[0m \u001b[38;5;66;03m# Create the parser.\u001b[39;00m\n\u001b[1;32m--> 620\u001b[0m parser \u001b[38;5;241m=\u001b[39m \u001b[43mTextFileReader\u001b[49m\u001b[43m(\u001b[49m\u001b[43mfilepath_or_buffer\u001b[49m\u001b[43m,\u001b[49m\u001b[43m \u001b[49m\u001b[38;5;241;43m*\u001b[39;49m\u001b[38;5;241;43m*\u001b[39;49m\u001b[43mkwds\u001b[49m\u001b[43m)\u001b[49m\n\u001b[0;32m    622\u001b[0m \u001b[38;5;28;01mif\u001b[39;00m chunksize \u001b[38;5;129;01mor\u001b[39;00m iterator:\n\u001b[0;32m    623\u001b[0m     \u001b[38;5;28;01mreturn\u001b[39;00m parser\n",
      "File \u001b[1;32m~\\AppData\\Local\\Programs\\Python\\Python312\\Lib\\site-packages\\pandas\\io\\parsers\\readers.py:1620\u001b[0m, in \u001b[0;36mTextFileReader.__init__\u001b[1;34m(self, f, engine, **kwds)\u001b[0m\n\u001b[0;32m   1617\u001b[0m     \u001b[38;5;28mself\u001b[39m\u001b[38;5;241m.\u001b[39moptions[\u001b[38;5;124m\"\u001b[39m\u001b[38;5;124mhas_index_names\u001b[39m\u001b[38;5;124m\"\u001b[39m] \u001b[38;5;241m=\u001b[39m kwds[\u001b[38;5;124m\"\u001b[39m\u001b[38;5;124mhas_index_names\u001b[39m\u001b[38;5;124m\"\u001b[39m]\n\u001b[0;32m   1619\u001b[0m \u001b[38;5;28mself\u001b[39m\u001b[38;5;241m.\u001b[39mhandles: IOHandles \u001b[38;5;241m|\u001b[39m \u001b[38;5;28;01mNone\u001b[39;00m \u001b[38;5;241m=\u001b[39m \u001b[38;5;28;01mNone\u001b[39;00m\n\u001b[1;32m-> 1620\u001b[0m \u001b[38;5;28mself\u001b[39m\u001b[38;5;241m.\u001b[39m_engine \u001b[38;5;241m=\u001b[39m \u001b[38;5;28;43mself\u001b[39;49m\u001b[38;5;241;43m.\u001b[39;49m\u001b[43m_make_engine\u001b[49m\u001b[43m(\u001b[49m\u001b[43mf\u001b[49m\u001b[43m,\u001b[49m\u001b[43m \u001b[49m\u001b[38;5;28;43mself\u001b[39;49m\u001b[38;5;241;43m.\u001b[39;49m\u001b[43mengine\u001b[49m\u001b[43m)\u001b[49m\n",
      "File \u001b[1;32m~\\AppData\\Local\\Programs\\Python\\Python312\\Lib\\site-packages\\pandas\\io\\parsers\\readers.py:1880\u001b[0m, in \u001b[0;36mTextFileReader._make_engine\u001b[1;34m(self, f, engine)\u001b[0m\n\u001b[0;32m   1878\u001b[0m     \u001b[38;5;28;01mif\u001b[39;00m \u001b[38;5;124m\"\u001b[39m\u001b[38;5;124mb\u001b[39m\u001b[38;5;124m\"\u001b[39m \u001b[38;5;129;01mnot\u001b[39;00m \u001b[38;5;129;01min\u001b[39;00m mode:\n\u001b[0;32m   1879\u001b[0m         mode \u001b[38;5;241m+\u001b[39m\u001b[38;5;241m=\u001b[39m \u001b[38;5;124m\"\u001b[39m\u001b[38;5;124mb\u001b[39m\u001b[38;5;124m\"\u001b[39m\n\u001b[1;32m-> 1880\u001b[0m \u001b[38;5;28mself\u001b[39m\u001b[38;5;241m.\u001b[39mhandles \u001b[38;5;241m=\u001b[39m \u001b[43mget_handle\u001b[49m\u001b[43m(\u001b[49m\n\u001b[0;32m   1881\u001b[0m \u001b[43m    \u001b[49m\u001b[43mf\u001b[49m\u001b[43m,\u001b[49m\n\u001b[0;32m   1882\u001b[0m \u001b[43m    \u001b[49m\u001b[43mmode\u001b[49m\u001b[43m,\u001b[49m\n\u001b[0;32m   1883\u001b[0m \u001b[43m    \u001b[49m\u001b[43mencoding\u001b[49m\u001b[38;5;241;43m=\u001b[39;49m\u001b[38;5;28;43mself\u001b[39;49m\u001b[38;5;241;43m.\u001b[39;49m\u001b[43moptions\u001b[49m\u001b[38;5;241;43m.\u001b[39;49m\u001b[43mget\u001b[49m\u001b[43m(\u001b[49m\u001b[38;5;124;43m\"\u001b[39;49m\u001b[38;5;124;43mencoding\u001b[39;49m\u001b[38;5;124;43m\"\u001b[39;49m\u001b[43m,\u001b[49m\u001b[43m \u001b[49m\u001b[38;5;28;43;01mNone\u001b[39;49;00m\u001b[43m)\u001b[49m\u001b[43m,\u001b[49m\n\u001b[0;32m   1884\u001b[0m \u001b[43m    \u001b[49m\u001b[43mcompression\u001b[49m\u001b[38;5;241;43m=\u001b[39;49m\u001b[38;5;28;43mself\u001b[39;49m\u001b[38;5;241;43m.\u001b[39;49m\u001b[43moptions\u001b[49m\u001b[38;5;241;43m.\u001b[39;49m\u001b[43mget\u001b[49m\u001b[43m(\u001b[49m\u001b[38;5;124;43m\"\u001b[39;49m\u001b[38;5;124;43mcompression\u001b[39;49m\u001b[38;5;124;43m\"\u001b[39;49m\u001b[43m,\u001b[49m\u001b[43m \u001b[49m\u001b[38;5;28;43;01mNone\u001b[39;49;00m\u001b[43m)\u001b[49m\u001b[43m,\u001b[49m\n\u001b[0;32m   1885\u001b[0m \u001b[43m    \u001b[49m\u001b[43mmemory_map\u001b[49m\u001b[38;5;241;43m=\u001b[39;49m\u001b[38;5;28;43mself\u001b[39;49m\u001b[38;5;241;43m.\u001b[39;49m\u001b[43moptions\u001b[49m\u001b[38;5;241;43m.\u001b[39;49m\u001b[43mget\u001b[49m\u001b[43m(\u001b[49m\u001b[38;5;124;43m\"\u001b[39;49m\u001b[38;5;124;43mmemory_map\u001b[39;49m\u001b[38;5;124;43m\"\u001b[39;49m\u001b[43m,\u001b[49m\u001b[43m \u001b[49m\u001b[38;5;28;43;01mFalse\u001b[39;49;00m\u001b[43m)\u001b[49m\u001b[43m,\u001b[49m\n\u001b[0;32m   1886\u001b[0m \u001b[43m    \u001b[49m\u001b[43mis_text\u001b[49m\u001b[38;5;241;43m=\u001b[39;49m\u001b[43mis_text\u001b[49m\u001b[43m,\u001b[49m\n\u001b[0;32m   1887\u001b[0m \u001b[43m    \u001b[49m\u001b[43merrors\u001b[49m\u001b[38;5;241;43m=\u001b[39;49m\u001b[38;5;28;43mself\u001b[39;49m\u001b[38;5;241;43m.\u001b[39;49m\u001b[43moptions\u001b[49m\u001b[38;5;241;43m.\u001b[39;49m\u001b[43mget\u001b[49m\u001b[43m(\u001b[49m\u001b[38;5;124;43m\"\u001b[39;49m\u001b[38;5;124;43mencoding_errors\u001b[39;49m\u001b[38;5;124;43m\"\u001b[39;49m\u001b[43m,\u001b[49m\u001b[43m \u001b[49m\u001b[38;5;124;43m\"\u001b[39;49m\u001b[38;5;124;43mstrict\u001b[39;49m\u001b[38;5;124;43m\"\u001b[39;49m\u001b[43m)\u001b[49m\u001b[43m,\u001b[49m\n\u001b[0;32m   1888\u001b[0m \u001b[43m    \u001b[49m\u001b[43mstorage_options\u001b[49m\u001b[38;5;241;43m=\u001b[39;49m\u001b[38;5;28;43mself\u001b[39;49m\u001b[38;5;241;43m.\u001b[39;49m\u001b[43moptions\u001b[49m\u001b[38;5;241;43m.\u001b[39;49m\u001b[43mget\u001b[49m\u001b[43m(\u001b[49m\u001b[38;5;124;43m\"\u001b[39;49m\u001b[38;5;124;43mstorage_options\u001b[39;49m\u001b[38;5;124;43m\"\u001b[39;49m\u001b[43m,\u001b[49m\u001b[43m \u001b[49m\u001b[38;5;28;43;01mNone\u001b[39;49;00m\u001b[43m)\u001b[49m\u001b[43m,\u001b[49m\n\u001b[0;32m   1889\u001b[0m \u001b[43m\u001b[49m\u001b[43m)\u001b[49m\n\u001b[0;32m   1890\u001b[0m \u001b[38;5;28;01massert\u001b[39;00m \u001b[38;5;28mself\u001b[39m\u001b[38;5;241m.\u001b[39mhandles \u001b[38;5;129;01mis\u001b[39;00m \u001b[38;5;129;01mnot\u001b[39;00m \u001b[38;5;28;01mNone\u001b[39;00m\n\u001b[0;32m   1891\u001b[0m f \u001b[38;5;241m=\u001b[39m \u001b[38;5;28mself\u001b[39m\u001b[38;5;241m.\u001b[39mhandles\u001b[38;5;241m.\u001b[39mhandle\n",
      "File \u001b[1;32m~\\AppData\\Local\\Programs\\Python\\Python312\\Lib\\site-packages\\pandas\\io\\common.py:873\u001b[0m, in \u001b[0;36mget_handle\u001b[1;34m(path_or_buf, mode, encoding, compression, memory_map, is_text, errors, storage_options)\u001b[0m\n\u001b[0;32m    868\u001b[0m \u001b[38;5;28;01melif\u001b[39;00m \u001b[38;5;28misinstance\u001b[39m(handle, \u001b[38;5;28mstr\u001b[39m):\n\u001b[0;32m    869\u001b[0m     \u001b[38;5;66;03m# Check whether the filename is to be opened in binary mode.\u001b[39;00m\n\u001b[0;32m    870\u001b[0m     \u001b[38;5;66;03m# Binary mode does not support 'encoding' and 'newline'.\u001b[39;00m\n\u001b[0;32m    871\u001b[0m     \u001b[38;5;28;01mif\u001b[39;00m ioargs\u001b[38;5;241m.\u001b[39mencoding \u001b[38;5;129;01mand\u001b[39;00m \u001b[38;5;124m\"\u001b[39m\u001b[38;5;124mb\u001b[39m\u001b[38;5;124m\"\u001b[39m \u001b[38;5;129;01mnot\u001b[39;00m \u001b[38;5;129;01min\u001b[39;00m ioargs\u001b[38;5;241m.\u001b[39mmode:\n\u001b[0;32m    872\u001b[0m         \u001b[38;5;66;03m# Encoding\u001b[39;00m\n\u001b[1;32m--> 873\u001b[0m         handle \u001b[38;5;241m=\u001b[39m \u001b[38;5;28;43mopen\u001b[39;49m\u001b[43m(\u001b[49m\n\u001b[0;32m    874\u001b[0m \u001b[43m            \u001b[49m\u001b[43mhandle\u001b[49m\u001b[43m,\u001b[49m\n\u001b[0;32m    875\u001b[0m \u001b[43m            \u001b[49m\u001b[43mioargs\u001b[49m\u001b[38;5;241;43m.\u001b[39;49m\u001b[43mmode\u001b[49m\u001b[43m,\u001b[49m\n\u001b[0;32m    876\u001b[0m \u001b[43m            \u001b[49m\u001b[43mencoding\u001b[49m\u001b[38;5;241;43m=\u001b[39;49m\u001b[43mioargs\u001b[49m\u001b[38;5;241;43m.\u001b[39;49m\u001b[43mencoding\u001b[49m\u001b[43m,\u001b[49m\n\u001b[0;32m    877\u001b[0m \u001b[43m            \u001b[49m\u001b[43merrors\u001b[49m\u001b[38;5;241;43m=\u001b[39;49m\u001b[43merrors\u001b[49m\u001b[43m,\u001b[49m\n\u001b[0;32m    878\u001b[0m \u001b[43m            \u001b[49m\u001b[43mnewline\u001b[49m\u001b[38;5;241;43m=\u001b[39;49m\u001b[38;5;124;43m\"\u001b[39;49m\u001b[38;5;124;43m\"\u001b[39;49m\u001b[43m,\u001b[49m\n\u001b[0;32m    879\u001b[0m \u001b[43m        \u001b[49m\u001b[43m)\u001b[49m\n\u001b[0;32m    880\u001b[0m     \u001b[38;5;28;01melse\u001b[39;00m:\n\u001b[0;32m    881\u001b[0m         \u001b[38;5;66;03m# Binary mode\u001b[39;00m\n\u001b[0;32m    882\u001b[0m         handle \u001b[38;5;241m=\u001b[39m \u001b[38;5;28mopen\u001b[39m(handle, ioargs\u001b[38;5;241m.\u001b[39mmode)\n",
      "\u001b[1;31mFileNotFoundError\u001b[0m: [Errno 2] No such file or directory: 'Zomato data.csv'"
     ]
    }
   ],
   "source": [
    "df=pd.read_csv(\"Zomato data.csv\")\n",
    "df.head()"
   ]
  },
  {
   "cell_type": "markdown",
   "id": "e059de67-9715-402a-ab19-a4f37b9ccfa9",
   "metadata": {},
   "source": [
    "### Check the structure of the dataset"
   ]
  },
  {
   "cell_type": "code",
   "execution_count": null,
   "id": "af7f3005-bcf9-429f-961a-1e3b9f9c5d66",
   "metadata": {},
   "outputs": [],
   "source": [
    "df.shape\n",
    "df.info()"
   ]
  },
  {
   "cell_type": "code",
   "execution_count": null,
   "id": "61b374cd-e698-4760-9ce4-d0af7cbfdee0",
   "metadata": {},
   "outputs": [],
   "source": [
    "df.isnull().sum()"
   ]
  },
  {
   "cell_type": "code",
   "execution_count": null,
   "id": "6c47be36-2470-4df8-8c29-23e0a8e2789f",
   "metadata": {},
   "outputs": [],
   "source": [
    "df.describe()"
   ]
  },
  {
   "cell_type": "markdown",
   "id": "fc6f6a5b-d3f0-4c50-bf95-0686ee164ab8",
   "metadata": {},
   "source": [
    "### Removing Missing Values"
   ]
  },
  {
   "cell_type": "code",
   "execution_count": null,
   "id": "ecd6ab61-c18f-4c19-b741-b6f8ff77a42d",
   "metadata": {},
   "outputs": [],
   "source": [
    "# Remove rows where any column has missing values\n",
    "null_values = df.isnull().sum()\n",
    "print(null_values)"
   ]
  },
  {
   "cell_type": "markdown",
   "id": "8188e8b8-1473-4b46-9cae-3086825e5a5e",
   "metadata": {},
   "source": [
    "### Check for duplicates"
   ]
  },
  {
   "cell_type": "code",
   "execution_count": null,
   "id": "16dbfe95-5fc7-4a0a-a51a-dc86517f8560",
   "metadata": {},
   "outputs": [],
   "source": [
    "duplicate_rows = df.duplicated()\n",
    "duplicate_rows"
   ]
  },
  {
   "cell_type": "markdown",
   "id": "1e5f286e-b538-4e70-9b9c-4bfed2a88fe2",
   "metadata": {},
   "source": [
    "### Converting 'Rate' Column to Numeric Format by Removing Denominator"
   ]
  },
  {
   "cell_type": "code",
   "execution_count": null,
   "id": "8bbf5989-3358-470c-b8a0-308707435807",
   "metadata": {},
   "outputs": [],
   "source": [
    "def handleRate(value):\n",
    "    value = str(value).split(\"/\")\n",
    "    value = value[0];\n",
    "    return float(value)\n",
    "df[\"rate\"] = df[\"rate\"].apply(handleRate)\n",
    "print(df.head())"
   ]
  },
  {
   "cell_type": "markdown",
   "id": "f37f2911-3c70-47d5-b350-4fed6cb9e219",
   "metadata": {},
   "source": [
    "### Summary of the df"
   ]
  },
  {
   "cell_type": "code",
   "execution_count": null,
   "id": "8635d524-0bb6-4c0c-a481-a9b3575a4063",
   "metadata": {},
   "outputs": [],
   "source": [
    "df.info()"
   ]
  },
  {
   "cell_type": "code",
   "execution_count": null,
   "id": "8f20f41b-28b2-4f93-8de8-1208850ffa64",
   "metadata": {},
   "outputs": [],
   "source": [
    "df.head()"
   ]
  },
  {
   "cell_type": "markdown",
   "id": "4d134cf5-6741-4e3f-9e13-470524ebf421",
   "metadata": {},
   "source": [
    "#### *Conclusion- There is no NULL value in df*"
   ]
  },
  {
   "cell_type": "markdown",
   "id": "d735b706-0817-48be-b970-dc10b06553f3",
   "metadata": {},
   "source": [
    "## Step2: Visualizing Data After Cleaning"
   ]
  },
  {
   "cell_type": "markdown",
   "id": "28755a67-3fa5-4805-854f-fbbb38124085",
   "metadata": {},
   "source": [
    "### What is the distribution of restaurants across different types (listed_in(type))?"
   ]
  },
  {
   "cell_type": "code",
   "execution_count": null,
   "id": "b2dacb9e-54bc-475c-86dd-7a3675383ee4",
   "metadata": {},
   "outputs": [],
   "source": [
    "sns.set_style(\"darkgrid\")\n",
    "sns.countplot(x='listed_in(type)', data=df, hue='listed_in(type)', palette='plasma', edgecolor='black', linewidth=0.7, legend=False)\n",
    "\n",
    "plt.title('Distribution of Restaurants Across Different Types')\n",
    "plt.xlabel('Restaurant Type',color=\"black\")\n",
    "plt.ylabel('Count of Restaurants',color=\"black\")\n",
    "\n",
    "plt.xticks(rotation=0, ha='right')\n",
    "plt.show()"
   ]
  },
  {
   "cell_type": "markdown",
   "id": "cc5a60af-a503-40a7-90e6-a428b89c3ef2",
   "metadata": {},
   "source": [
    "#### *RESULT: The majority of the restaurant fall into the dining category.*"
   ]
  },
  {
   "cell_type": "markdown",
   "id": "35d10d18-8b26-41db-9e47-015e8d25a453",
   "metadata": {},
   "source": [
    "### What is the count of restaurants offering online orders (online_order) and table bookings (book_table)?"
   ]
  },
  {
   "cell_type": "code",
   "execution_count": null,
   "id": "fab01850-f45a-4d70-b9e6-fa1e2938f916",
   "metadata": {},
   "outputs": [],
   "source": [
    "online_counts = df['online_order'].value_counts()\n",
    "book_table_counts = df['book_table'].value_counts()\n",
    "\n",
    "online_table_counts = pd.DataFrame({\n",
    "    'Offering': ['Yes', 'No'],\n",
    "    'Online Order Count': [online_counts.get('Yes', 0), online_counts.get('No', 0)],\n",
    "    'Table Booking Count': [book_table_counts.get('Yes', 0), book_table_counts.get('No', 0)]\n",
    "})\n",
    "\n",
    "plt.figure(figsize=(8, 6))\n",
    "palette = sns.color_palette(\"muted\", n_colors=2)\n",
    "\n",
    "online_table_counts.set_index('Offering').plot(kind='bar', stacked=False, color=palette, edgecolor='black', linewidth=0.7)\n",
    "\n",
    "plt.title('Count of Restaurants Offering Online Orders and Table Bookings',color=\"black\")\n",
    "plt.ylabel('Number of Restaurants',color=\"black\")\n",
    "plt.xlabel('Offering',color=\"black\",fontsize=\"12\")\n",
    "\n",
    "plt.grid(True, linestyle='--', alpha=0.6)\n",
    "plt.xticks(rotation=0)  \n",
    "plt.show()"
   ]
  },
  {
   "cell_type": "code",
   "execution_count": null,
   "id": "289dd9af-ffbc-49ed-8a78-acef3b565d42",
   "metadata": {},
   "outputs": [],
   "source": [
    "plt.figure(figsize=(7, 5))\n",
    "sns.set_style(\"whitegrid\")\n",
    "sns.set_context(\"notebook\")\n",
    "\n",
    "sns.boxplot(x='rate',data=df,color=\"green\",linewidth=1.2,legend=False)\n",
    "\n",
    "plt.title('Rating Distribution of Restaurants',color=\"black\",fontweight='regular',fontsize=\"14\")\n",
    "plt.xlabel('Rating',fontsize=\"14\",color=\"black\")\n",
    "plt.grid(True, linestyle='--',linewidth=1,alpha=0.6)\n",
    "plt.show()\n"
   ]
  },
  {
   "cell_type": "markdown",
   "id": "d668b4fa-fd5b-41be-8323-234c7e3fce47",
   "metadata": {},
   "source": [
    "## How do the number of votes (votes) relate to the restaurant ratings (rate)?"
   ]
  },
  {
   "cell_type": "code",
   "execution_count": null,
   "id": "801c8caf-7a34-42bc-b20e-0f22d13dfee2",
   "metadata": {},
   "outputs": [],
   "source": [
    "sns.set_style(\"whitegrid\")\n",
    "sns.scatterplot(x=\"rate\", y=\"votes\", data=df,hue=\"listed_in(type)\",palette=\"plasma\")\n",
    "\n",
    "plt.title('Relationship between Number of Votes and Ratings', fontsize=16)\n",
    "plt.xlabel('Number of Votes', fontsize=12)\n",
    "plt.ylabel('Restaurant Rating', fontsize=12)\n",
    "\n",
    "\n",
    "plt.show()"
   ]
  },
  {
   "cell_type": "markdown",
   "id": "85ed4b56-d284-44e3-8b8c-ad09a6d41a87",
   "metadata": {},
   "source": [
    "## What is the price distribution (approx_cost(for two people)) at different restaurants?"
   ]
  },
  {
   "cell_type": "code",
   "execution_count": null,
   "id": "b25d1973-a005-456d-b898-cade9e5afa5a",
   "metadata": {},
   "outputs": [],
   "source": [
    "sns.set_style(\"white\")\n",
    "plt.figure(figsize=(10, 6))\n",
    "sns.set_context(\"notebook\")\n",
    "\n",
    "palette = sns.color_palette(\"winter\", n_colors=4)\n",
    "sns.boxplot(x='listed_in(type)', y='approx_cost(for two people)', data=df,hue='listed_in(type)', palette=palette, legend=False)\n",
    "\n",
    "plt.title('Price Distribution at Different Restaurants', fontsize=16, fontweight='semibold')\n",
    "plt.xlabel('Restaurant Type', fontsize=14, color=\"black\")\n",
    "plt.ylabel('Approx. Cost for Two People', fontsize=12, color=\"black\")\n",
    "\n",
    "# Show the plot\n",
    "plt.xticks(rotation=0) \n",
    "plt.show()\n"
   ]
  },
  {
   "cell_type": "markdown",
   "id": "b3cc6559-6700-44d8-a9fc-240e40114cef",
   "metadata": {},
   "source": [
    "## What proportion of restaurants offer online orders and table bookings?"
   ]
  },
  {
   "cell_type": "code",
   "execution_count": null,
   "id": "4c9d3111-8c81-435a-bf1f-2476d0f7403b",
   "metadata": {},
   "outputs": [],
   "source": [
    "online_order_proportion = df['online_order'].value_counts(normalize=True)\n",
    "book_table_proportion = df['book_table'].value_counts(normalize=True)\n",
    "\n",
    "plt.figure(figsize=(12, 6))\n",
    "\n",
    "plt.subplot(1, 2, 1)\n",
    "\n",
    "online_order_proportion.plot.pie(autopct='%1.1f%%', colors=['#ff9999', '#66b3ff'], startangle=90, \n",
    "                                 labels=['Online Order: Yes', 'Online Order: No'], \n",
    "                                 wedgeprops={'edgecolor': 'black'}, shadow=True, explode=(0.1, 0))\n",
    "plt.title('Proportion of Restaurants Offering Online Orders', fontsize=16, fontweight='bold', color='black')\n",
    "plt.ylabel('')\n",
    "\n",
    "plt.subplot(1, 2, 2)\n",
    "book_table_proportion.plot.pie(autopct='%1.1f%%', colors=['#e0b3ff', '#99ff99'], startangle=90, \n",
    "                               labels=['Table Booking: Yes', 'Table Booking: No'], \n",
    "                               wedgeprops={'edgecolor': 'black'}, shadow=True, explode=(0.1, 0))\n",
    "plt.title('Proportion of Restaurants Offering Table Bookings', fontsize=16, fontweight='bold', color='black')\n",
    "plt.ylabel('')  \n",
    "\n",
    "plt.tight_layout()\n",
    "\n",
    "plt.show()\n"
   ]
  },
  {
   "cell_type": "markdown",
   "id": "d2ab2e17-b9e2-4068-b08b-adaab39f13dc",
   "metadata": {},
   "source": [
    "##  What is the distribution of restaurants offering online orders across different restaurant types"
   ]
  },
  {
   "cell_type": "code",
   "execution_count": null,
   "id": "786a1c6d-a876-4c91-8ab0-4de8c9958254",
   "metadata": {},
   "outputs": [],
   "source": [
    "pivot_table = df.pivot_table(index='listed_in(type)', columns='online_order', aggfunc='size', fill_value=0)\n",
    "\n",
    "plt.figure(figsize=(10, 6))\n",
    "sns.heatmap(pivot_table, annot=True, cmap=\"cividis\", fmt=\"d\", linewidths=0.5,linecolor='white')\n",
    "\n",
    "plt.title('Heatmap of Restaurants Offering Online Orders by Type')\n",
    "plt.xlabel('Online Order')\n",
    "plt.ylabel('Restaurant Type')\n",
    "plt.show()"
   ]
  },
  {
   "cell_type": "code",
   "execution_count": null,
   "id": "c126c062-b5b4-4c44-8c1b-4588bde9db02",
   "metadata": {},
   "outputs": [],
   "source": [
    "pivot_table = df.pivot_table(index='listed_in(type)', columns='online_order', aggfunc='size', fill_value=0)\n",
    "plt.figure(figsize=(12, 8))\n",
    "sns.heatmap(pivot_table, \n",
    "            annot=True,               \n",
    "            cmap=\"RdBu_r\",          \n",
    "            fmt=\"d\",                  \n",
    "            linewidths=1,              \n",
    "            linecolor='white',         \n",
    "            cbar_kws={'label': 'Count of Restaurants'},  \n",
    "            annot_kws={'size': 12, 'weight': 'bold', 'color': 'black'}, \n",
    "            square=True,              \n",
    "            vmin=0,                    \n",
    "            vmax=pivot_table.max().max() + 50)  \n",
    "\n",
    "plt.title('Heatmap of Restaurants Offering Online Orders by Type', fontsize=16, fontweight='bold', color='darkblue')\n",
    "\n",
    "plt.xlabel('Online Order', fontsize=14, fontweight='bold', color='darkblue')\n",
    "plt.ylabel('Restaurant Type', fontsize=14, fontweight='bold', color='darkblue')\n",
    "\n",
    "plt.xticks(rotation=45, ha='right')\n",
    "plt.yticks(rotation=0)\n",
    "\n",
    "plt.tight_layout() \n",
    "plt.show()\n"
   ]
  },
  {
   "cell_type": "code",
   "execution_count": null,
   "id": "6c428130-9dd9-47bc-b9e1-e487854c7398",
   "metadata": {},
   "outputs": [],
   "source": []
  }
 ],
 "metadata": {
  "kernelspec": {
   "display_name": "Python 3 (ipykernel)",
   "language": "python",
   "name": "python3"
  },
  "language_info": {
   "codemirror_mode": {
    "name": "ipython",
    "version": 3
   },
   "file_extension": ".py",
   "mimetype": "text/x-python",
   "name": "python",
   "nbconvert_exporter": "python",
   "pygments_lexer": "ipython3",
   "version": "3.12.2"
  }
 },
 "nbformat": 4,
 "nbformat_minor": 5
}
